{
 "cells": [
  {
   "cell_type": "markdown",
   "id": "4950868c",
   "metadata": {},
   "source": [
    "# Defining Class for Node of the Strict Binary Tree"
   ]
  },
  {
   "cell_type": "code",
   "execution_count": 1,
   "id": "355e221d",
   "metadata": {},
   "outputs": [],
   "source": [
    "class TreeNode:\n",
    "    def __init__(self,d):\n",
    "        self.data = d # data : To store the actual data\n",
    "        self.leftChild = None # leftChild : To store the address of the left child node for a root node\n",
    "        self.rightChild = None # rightChild : To store the address of the right child node for a root node"
   ]
  },
  {
   "cell_type": "markdown",
   "id": "01bfbe18",
   "metadata": {},
   "source": [
    "# Pre-Order Traversal Function : The Normal Way"
   ]
  },
  {
   "cell_type": "code",
   "execution_count": 2,
   "id": "c59e210e",
   "metadata": {},
   "outputs": [],
   "source": [
    "def preOrderTraversal(rootNode):\n",
    "    if not rootNode:\n",
    "        return\n",
    "    print(rootNode.data)\n",
    "    preOrderTraversal(rootNode.leftChild)\n",
    "    preOrderTraversal(rootNode.rightChild)"
   ]
  },
  {
   "cell_type": "markdown",
   "id": "bdec062f",
   "metadata": {},
   "source": [
    "# Pre-Order Traversal Function : TCO Optimized"
   ]
  },
  {
   "cell_type": "code",
   "execution_count": 3,
   "id": "857416eb",
   "metadata": {},
   "outputs": [],
   "source": [
    "def preOrderTraversalTCO(stack):\n",
    "    if len(stack) == 0:\n",
    "        return\n",
    "    else:\n",
    "        rootNode = stack.pop()\n",
    "        print(rootNode.data)\n",
    "        \n",
    "        if rootNode.rightChild != None:\n",
    "            stack.append(rootNode.rightChild)\n",
    "        if rootNode.leftChild != None:\n",
    "            stack.append(rootNode.leftChild)\n",
    "    preOrderTraversalTCO(stack)"
   ]
  },
  {
   "cell_type": "markdown",
   "id": "a3dff918",
   "metadata": {},
   "source": [
    "# Example : Food Menu \n",
    "\n",
    "# Declaring nodes for all the items in the Menu"
   ]
  },
  {
   "cell_type": "code",
   "execution_count": 4,
   "id": "19c16819",
   "metadata": {},
   "outputs": [],
   "source": [
    "menu = TreeNode(\"Menu\")\n",
    "drinks = TreeNode(\"Drinks\")\n",
    "food = TreeNode(\"Food\")\n",
    "tea = TreeNode(\"Tea\")\n",
    "coffee = TreeNode(\"Coffee\")\n",
    "burger = TreeNode(\"Burger\")\n",
    "pizza = TreeNode(\"Pizza\")"
   ]
  },
  {
   "cell_type": "markdown",
   "id": "7a259718",
   "metadata": {},
   "source": [
    "# Linking the Nodes to form a tree"
   ]
  },
  {
   "cell_type": "code",
   "execution_count": 5,
   "id": "0d13c9ad",
   "metadata": {},
   "outputs": [],
   "source": [
    "menu.leftChild = drinks\n",
    "menu.rightChild = food\n",
    "\n",
    "drinks.leftChild = tea\n",
    "drinks.rightChild = coffee\n",
    "\n",
    "food.leftChild = burger\n",
    "food.rightChild = pizza"
   ]
  },
  {
   "cell_type": "markdown",
   "id": "79fffc79",
   "metadata": {},
   "source": [
    "# Calling preOrderTraversal() : Not TCO Optimized"
   ]
  },
  {
   "cell_type": "code",
   "execution_count": 6,
   "id": "908502e4",
   "metadata": {},
   "outputs": [
    {
     "name": "stdout",
     "output_type": "stream",
     "text": [
      "Menu\n",
      "Drinks\n",
      "Tea\n",
      "Coffee\n",
      "Food\n",
      "Burger\n",
      "Pizza\n"
     ]
    }
   ],
   "source": [
    "preOrderTraversal(menu)"
   ]
  },
  {
   "cell_type": "markdown",
   "id": "305962b1",
   "metadata": {},
   "source": [
    "# Calling preOrderTraversalTCO() : TCO Optimized"
   ]
  },
  {
   "cell_type": "code",
   "execution_count": 7,
   "id": "153e4fc8",
   "metadata": {},
   "outputs": [
    {
     "name": "stdout",
     "output_type": "stream",
     "text": [
      "Menu\n",
      "Drinks\n",
      "Tea\n",
      "Coffee\n",
      "Food\n",
      "Burger\n",
      "Pizza\n"
     ]
    }
   ],
   "source": [
    "preOrderTraversalTCO([menu])"
   ]
  }
 ],
 "metadata": {
  "kernelspec": {
   "display_name": "Python 3 (ipykernel)",
   "language": "python",
   "name": "python3"
  },
  "language_info": {
   "codemirror_mode": {
    "name": "ipython",
    "version": 3
   },
   "file_extension": ".py",
   "mimetype": "text/x-python",
   "name": "python",
   "nbconvert_exporter": "python",
   "pygments_lexer": "ipython3",
   "version": "3.10.1"
  }
 },
 "nbformat": 4,
 "nbformat_minor": 5
}
